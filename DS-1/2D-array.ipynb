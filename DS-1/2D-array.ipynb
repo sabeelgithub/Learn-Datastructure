{
 "cells": [
  {
   "cell_type": "code",
   "execution_count": 33,
   "id": "40785ed0",
   "metadata": {},
   "outputs": [],
   "source": [
    "import numpy as np"
   ]
  },
  {
   "cell_type": "code",
   "execution_count": 34,
   "id": "42ce3ee8",
   "metadata": {},
   "outputs": [
    {
     "data": {
      "text/plain": [
       "array([[ 1,  2,  3,  5],\n",
       "       [ 4,  5,  6,  7],\n",
       "       [ 7,  8,  9, 11],\n",
       "       [11, 12, 13, 15]])"
      ]
     },
     "execution_count": 34,
     "metadata": {},
     "output_type": "execute_result"
    }
   ],
   "source": [
    "\n",
    "arr = np.array([[1,2,3,5],[4,5,6,7],[7,8,9,11],[11,12,13,15]])\n",
    "arr\n",
    " "
   ]
  },
  {
   "cell_type": "code",
   "execution_count": 16,
   "id": "c6c41c47",
   "metadata": {},
   "outputs": [
    {
     "data": {
      "text/plain": [
       "array([[100, 200, 300, 400],\n",
       "       [  1,   2,   3,   5],\n",
       "       [  4,   5,   6,   7],\n",
       "       [  7,   8,   9,  11],\n",
       "       [ 11,  12,  13,  15]])"
      ]
     },
     "execution_count": 16,
     "metadata": {},
     "output_type": "execute_result"
    }
   ],
   "source": [
    "newarr1 = np.insert(arr,0,[[100,200,300,400]],axis=0)\n",
    "newarr1"
   ]
  },
  {
   "cell_type": "code",
   "execution_count": 22,
   "id": "47761b3b",
   "metadata": {},
   "outputs": [
    {
     "data": {
      "text/plain": [
       "array([[100,   1,   2,   3,   5],\n",
       "       [200,   4,   5,   6,   7],\n",
       "       [300,   7,   8,   9,  11],\n",
       "       [400,  11,  12,  13,  15]])"
      ]
     },
     "execution_count": 22,
     "metadata": {},
     "output_type": "execute_result"
    }
   ],
   "source": [
    "newarr2 = np.insert(arr,0,[[100,200,300,400]],axis=1)\n",
    "newarr2"
   ]
  },
  {
   "cell_type": "code",
   "execution_count": 29,
   "id": "b4c3435c",
   "metadata": {},
   "outputs": [
    {
     "data": {
      "text/plain": [
       "array([[  1,   2,   3,   5],\n",
       "       [  4,   5,   6,   7],\n",
       "       [  7,   8,   9,  11],\n",
       "       [ 11,  12,  13,  15],\n",
       "       [100, 200, 300, 400]])"
      ]
     },
     "execution_count": 29,
     "metadata": {},
     "output_type": "execute_result"
    }
   ],
   "source": [
    "newarr3 = np.append(arr,[[100,200,300,400]],axis=0)\n",
    "newarr3"
   ]
  },
  {
   "cell_type": "code",
   "execution_count": 35,
   "id": "92f8bbb8",
   "metadata": {},
   "outputs": [
    {
     "data": {
      "text/plain": [
       "1"
      ]
     },
     "execution_count": 35,
     "metadata": {},
     "output_type": "execute_result"
    }
   ],
   "source": [
    "arr[0,0]"
   ]
  },
  {
   "cell_type": "code",
   "execution_count": 37,
   "id": "12ff9c55",
   "metadata": {},
   "outputs": [
    {
     "data": {
      "text/plain": [
       "4"
      ]
     },
     "execution_count": 37,
     "metadata": {},
     "output_type": "execute_result"
    }
   ],
   "source": [
    "len(arr)\n",
    "    \n",
    "        "
   ]
  },
  {
   "cell_type": "code",
   "execution_count": 46,
   "id": "cc9c3174",
   "metadata": {},
   "outputs": [
    {
     "name": "stdout",
     "output_type": "stream",
     "text": [
      "item is  5\n"
     ]
    }
   ],
   "source": [
    "def accessElement(array,rowIndex,colIndex):\n",
    "    if rowIndex >= len(arr):\n",
    "        print('no such item')\n",
    "    elif colIndex >= len(arr):\n",
    "        print('no such item')\n",
    "    elif colIndex >= len(arr) and rowIndex >= len(arr):\n",
    "        print('no such item')\n",
    "    else:\n",
    "        print('item is ',arr[rowIndex,colIndex])\n",
    "    return\n",
    "\n",
    "accessElement(arr,1,1)"
   ]
  },
  {
   "cell_type": "code",
   "execution_count": 47,
   "id": "13cbbc3f",
   "metadata": {},
   "outputs": [
    {
     "data": {
      "text/plain": [
       "array([23, 27, 31, 38])"
      ]
     },
     "execution_count": 47,
     "metadata": {},
     "output_type": "execute_result"
    }
   ],
   "source": [
    "sum(arr)\n",
    "# summing column wise"
   ]
  },
  {
   "cell_type": "code",
   "execution_count": 55,
   "id": "ace2b917",
   "metadata": {},
   "outputs": [
    {
     "name": "stdout",
     "output_type": "stream",
     "text": [
      "1\n",
      "2\n",
      "3\n",
      "5\n",
      "4\n",
      "5\n",
      "6\n",
      "7\n",
      "7\n",
      "8\n",
      "9\n",
      "11\n",
      "11\n",
      "12\n",
      "13\n",
      "15\n"
     ]
    }
   ],
   "source": [
    "#nditer()\n",
    "for i in np.nditer(arr):\n",
    "    print(i)"
   ]
  },
  {
   "cell_type": "code",
   "execution_count": 56,
   "id": "a0b6607d",
   "metadata": {},
   "outputs": [
    {
     "name": "stdout",
     "output_type": "stream",
     "text": [
      "[1 2 3 5]\n",
      "[4 5 6 7]\n",
      "[ 7  8  9 11]\n",
      "[11 12 13 15]\n"
     ]
    }
   ],
   "source": [
    "for i in arr:\n",
    "    print(i)"
   ]
  },
  {
   "cell_type": "code",
   "execution_count": 57,
   "id": "e3b0adcf",
   "metadata": {},
   "outputs": [
    {
     "name": "stdout",
     "output_type": "stream",
     "text": [
      "1\n",
      "2\n",
      "3\n",
      "5\n",
      "4\n",
      "5\n",
      "6\n",
      "7\n",
      "7\n",
      "8\n",
      "9\n",
      "11\n",
      "11\n",
      "12\n",
      "13\n",
      "15\n"
     ]
    }
   ],
   "source": [
    "for i in arr:\n",
    "    for k in i:\n",
    "        print(k)\n",
    "        "
   ]
  },
  {
   "cell_type": "code",
   "execution_count": 66,
   "id": "8d723a86",
   "metadata": {},
   "outputs": [
    {
     "name": "stdout",
     "output_type": "stream",
     "text": [
      "1\n",
      "2\n",
      "3\n",
      "5\n",
      "4\n",
      "5\n",
      "6\n",
      "7\n",
      "7\n",
      "8\n",
      "9\n",
      "11\n",
      "11\n",
      "12\n",
      "13\n",
      "15\n"
     ]
    }
   ],
   "source": [
    "def traversring(array):\n",
    "    for i in array:\n",
    "        for k in i:\n",
    "            print(k)\n",
    "            \n",
    "    return\n",
    "\n",
    "traversring(arr)"
   ]
  },
  {
   "cell_type": "code",
   "execution_count": 128,
   "id": "45717617",
   "metadata": {},
   "outputs": [
    {
     "name": "stdout",
     "output_type": "stream",
     "text": [
      "item 12 found at (3,1) position\n"
     ]
    }
   ],
   "source": [
    "def search(array,value):\n",
    "\n",
    "    for i in range(len(array)):\n",
    "        \n",
    "        for j in range(len(array[i])):\n",
    "            if array[i][j] == value:\n",
    "                print('item {}'.format(value),'found at ({},{}) position'.format(i,j))\n",
    "                \n",
    "                return\n",
    "    \n",
    "    print('item {}'.format(value),'not found')\n",
    "                \n",
    "            \n",
    "  \n",
    "\n",
    "search(arr,12)"
   ]
  },
  {
   "cell_type": "code",
   "execution_count": 140,
   "id": "4511cfb4",
   "metadata": {},
   "outputs": [
    {
     "data": {
      "text/plain": [
       "array([[ 1,  2,  3,  5],\n",
       "       [ 4,  5,  6,  7],\n",
       "       [ 7,  8,  9, 11],\n",
       "       [11, 12, 13, 15]])"
      ]
     },
     "execution_count": 140,
     "metadata": {},
     "output_type": "execute_result"
    }
   ],
   "source": [
    "arr"
   ]
  },
  {
   "cell_type": "code",
   "execution_count": 139,
   "id": "985a8b5c",
   "metadata": {},
   "outputs": [
    {
     "data": {
      "text/plain": [
       "array([[ 4,  5,  6,  7],\n",
       "       [ 7,  8,  9, 11],\n",
       "       [11, 12, 13, 15]])"
      ]
     },
     "execution_count": 139,
     "metadata": {},
     "output_type": "execute_result"
    }
   ],
   "source": [
    "deleted_after_arr = np.delete(arr,0,axis=0)\n",
    "deleted_after_arr"
   ]
  },
  {
   "cell_type": "code",
   "execution_count": 138,
   "id": "125a63f2",
   "metadata": {},
   "outputs": [
    {
     "data": {
      "text/plain": [
       "array([[ 1,  2,  3,  5],\n",
       "       [ 7,  8,  9, 11],\n",
       "       [11, 12, 13, 15]])"
      ]
     },
     "execution_count": 138,
     "metadata": {},
     "output_type": "execute_result"
    }
   ],
   "source": [
    "deleted_after_arr = np.delete(arr,1,axis=0)\n",
    "deleted_after_arr"
   ]
  },
  {
   "cell_type": "code",
   "execution_count": 141,
   "id": "0ca81341",
   "metadata": {},
   "outputs": [
    {
     "data": {
      "text/plain": [
       "array([[ 2,  3,  5],\n",
       "       [ 5,  6,  7],\n",
       "       [ 8,  9, 11],\n",
       "       [12, 13, 15]])"
      ]
     },
     "execution_count": 141,
     "metadata": {},
     "output_type": "execute_result"
    }
   ],
   "source": [
    "deleted_after_arr = np.delete(arr,0,axis=1)\n",
    "deleted_after_arr"
   ]
  },
  {
   "cell_type": "code",
   "execution_count": 142,
   "id": "53144db5",
   "metadata": {},
   "outputs": [
    {
     "data": {
      "text/plain": [
       "array([[ 1,  3,  5],\n",
       "       [ 4,  6,  7],\n",
       "       [ 7,  9, 11],\n",
       "       [11, 13, 15]])"
      ]
     },
     "execution_count": 142,
     "metadata": {},
     "output_type": "execute_result"
    }
   ],
   "source": [
    "deleted_after_arr = np.delete(arr,1,axis=1)\n",
    "deleted_after_arr"
   ]
  },
  {
   "cell_type": "code",
   "execution_count": null,
   "id": "a5eb02a4",
   "metadata": {},
   "outputs": [],
   "source": []
  }
 ],
 "metadata": {
  "kernelspec": {
   "display_name": "Python 3 (ipykernel)",
   "language": "python",
   "name": "python3"
  },
  "language_info": {
   "codemirror_mode": {
    "name": "ipython",
    "version": 3
   },
   "file_extension": ".py",
   "mimetype": "text/x-python",
   "name": "python",
   "nbconvert_exporter": "python",
   "pygments_lexer": "ipython3",
   "version": "3.9.13"
  }
 },
 "nbformat": 4,
 "nbformat_minor": 5
}
